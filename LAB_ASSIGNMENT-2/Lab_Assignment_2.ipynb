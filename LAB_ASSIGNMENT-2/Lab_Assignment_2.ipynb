{
  "nbformat": 4,
  "nbformat_minor": 0,
  "metadata": {
    "colab": {
      "provenance": []
    },
    "kernelspec": {
      "name": "python3",
      "display_name": "Python 3"
    },
    "language_info": {
      "name": "python"
    }
  },
  "cells": [
    {
      "cell_type": "code",
      "execution_count": 4,
      "metadata": {
        "id": "kBopECyvcX1t"
      },
      "outputs": [],
      "source": [
        "import numpy as np\n",
        "import pandas as pd\n",
        "import matplotlib.pyplot as plt\n",
        "import seaborn as sns\n",
        "import warnings\n",
        "warnings.filterwarnings('ignore')\n",
        "from sklearn.metrics import *\n",
        "import numpy as np\n"
      ]
    },
    {
      "cell_type": "code",
      "source": [
        "'''Consider COVID Dataset Through the diagnosis test I predicted 100 report\n",
        "as COVID positive, but only 45 of those were actually positive. Total 50\n",
        "people in my sample were actually COVID positive. I have total 500\n",
        "samples. Create confusion matrix based on above data and find :\n",
        "I. Accuracy\n",
        "II. Precision\n",
        "III. Recall\n",
        "IV. F-1 score. '''\n"
      ],
      "metadata": {
        "colab": {
          "base_uri": "https://localhost:8080/",
          "height": 53
        },
        "id": "ANLvOslEcgqj",
        "outputId": "90c5fc21-d6b8-4898-f2df-bf60293ae65f"
      },
      "execution_count": 2,
      "outputs": [
        {
          "output_type": "execute_result",
          "data": {
            "text/plain": [
              "'Consider COVID Dataset Through the diagnosis test I predicted 100 report\\nas COVID positive, but only 45 of those were actually positive. Total 50\\npeople in my sample were actually COVID positive. I have total 500\\nsamples. Create confusion matrix based on above data and find :\\nI. Accuracy\\nII. Precision\\nIII. Recall\\nIV. F-1 score. '"
            ],
            "application/vnd.google.colaboratory.intrinsic+json": {
              "type": "string"
            }
          },
          "metadata": {},
          "execution_count": 2
        }
      ]
    },
    {
      "cell_type": "code",
      "source": [
        "actual = (\n",
        "    ['Positive'] * 45 +\n",
        "    ['Negative'] * 55 +\n",
        "    ['Positive'] * 5 +\n",
        "    ['Negative'] * 395\n",
        ")\n",
        "\n",
        "predicted = (\n",
        "    ['Positive'] * 45 +\n",
        "    ['Positive'] * 55 +\n",
        "    ['Negative'] * 5 +\n",
        "    ['Negative'] * 395\n",
        ")\n",
        "\n",
        "\n",
        "conf_matrix = confusion_matrix(actual, predicted, labels=['Positive', 'Negative'])\n",
        "accuracy = accuracy_score(actual, predicted)\n",
        "precision = precision_score(actual, predicted, pos_label='Positive')\n",
        "recall = recall_score(actual, predicted, pos_label='Positive')\n",
        "f1 = f1_score(actual, predicted, pos_label='Positive')\n",
        "\n",
        "print(\"Confusion Matrix:\")\n",
        "print(conf_matrix)\n",
        "print(f\"\\nAccuracy: {accuracy * 100:.2f}%\")\n",
        "print(f\"Precision: {precision * 100:.2f}%\")\n",
        "print(f\"Recall: {recall * 100:.2f}%\")\n",
        "print(f\"F1 Score: {f1 * 100:.2f}%\")"
      ],
      "metadata": {
        "colab": {
          "base_uri": "https://localhost:8080/"
        },
        "id": "p9ZKQYXLcqcP",
        "outputId": "71f6cb0f-06cb-4c24-9ef6-94cdd9cf207e"
      },
      "execution_count": 5,
      "outputs": [
        {
          "output_type": "stream",
          "name": "stdout",
          "text": [
            "Confusion Matrix:\n",
            "[[ 45   5]\n",
            " [ 55 395]]\n",
            "\n",
            "Accuracy: 88.00%\n",
            "Precision: 45.00%\n",
            "Recall: 90.00%\n",
            "F1 Score: 60.00%\n"
          ]
        }
      ]
    }
  ]
}